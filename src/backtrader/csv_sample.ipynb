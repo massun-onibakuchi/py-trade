{
 "metadata": {
  "language_info": {
   "codemirror_mode": {
    "name": "ipython",
    "version": 3
   },
   "file_extension": ".py",
   "mimetype": "text/x-python",
   "name": "python",
   "nbconvert_exporter": "python",
   "pygments_lexer": "ipython3",
   "version": "3.7.6-final"
  },
  "orig_nbformat": 2,
  "kernelspec": {
   "name": "python3",
   "display_name": "Python 3",
   "language": "python"
  }
 },
 "nbformat": 4,
 "nbformat_minor": 2,
 "cells": [
  {
   "cell_type": "code",
   "execution_count": 8,
   "metadata": {},
   "outputs": [],
   "source": [
    "from __future__ import (absolute_import, division, print_function,\n",
    "                        unicode_literals)\n",
    "import pandas as pd\n",
    "import datetime  # For datetime objects\n",
    "import os.path  # To manage paths\n",
    "import sys  # To find out the script name (in argv[0])\n",
    "from pathlib import Path\n",
    "import csv\n",
    "# Import the backtrader platform\n",
    "import backtrader as bt"
   ]
  },
  {
   "cell_type": "code",
   "execution_count": 9,
   "metadata": {},
   "outputs": [
    {
     "output_type": "stream",
     "name": "stdout",
     "text": [
      "../data/processed_ETH_OHLCV.csv\n"
     ]
    }
   ],
   "source": [
    "path = os.getcwd()\n",
    "# print(path)\n",
    "data_path = '../data/processed_ETH_OHLCV.csv'\n",
    "temp = os.path.join(os.path.dirname('__file__'), data_path)\n",
    "path = os.path.normpath(temp)\n",
    "\n",
    "print(path)"
   ]
  },
  {
   "cell_type": "code",
   "execution_count": 10,
   "metadata": {},
   "outputs": [],
   "source": [
    "data = bt.feeds.GenericCSVData(\n",
    "        dataname=path,\n",
    "        nullvalue=0.0,\n",
    "        # Do not pass values before this date\n",
    "        fromdate=datetime.datetime(2018, 8, 8),\n",
    "        # Do not pass values before this date\n",
    "        todate=datetime.datetime(2020, 9, 9),\n",
    "        dtformat=('%Y-%m-%d-%H:%M:%S'),\n",
    "        datetime=0,\n",
    "        time=-1,\n",
    "        high=3,\n",
    "        low=4,\n",
    "        open=2,\n",
    "        close=1,\n",
    "        volume=-1,\n",
    "        openinterest=-1\n",
    "        # Do not pass values after this date\n",
    "        # reverse=False\n",
    "        )"
   ]
  },
  {
   "cell_type": "code",
   "execution_count": 11,
   "metadata": {},
   "outputs": [],
   "source": [
    "class TestStrategy(bt.Strategy):\n",
    "    lines = ('signal',)\n",
    "    params = (('log_file', './backtest.csv'),\n",
    "        ('p1', 4),\n",
    "        ('p2', 8))\n",
    "\n",
    "    def log(self, txt, dt=None):\n",
    "        ''' Logging function for this strategy'''\n",
    "        dt = dt or self.datas[0].datetime.date(0)\n",
    "        # print('%s, %s' % (dt.isoformat(), txt))\n",
    "        with Path(self.p.log_file).open('a') as f:\n",
    "            log_writer = csv.writer(f)\n",
    "            log_writer.writerow([dt.isoformat()] + txt.split(','))\n",
    "\n",
    "\n",
    "    def __init__(self):\n",
    "        # sma1 = btind.SimpleMovingAverage(self.data)\n",
    "        # Keep a reference to the \"close\" line in the data[0] dataseries\n",
    "        # sma1 = bt.indicators.SMA(period=self.p.p1)\n",
    "        # sma2 = bt.indicators.SMA(period=self.p.p2)\n",
    "        self.dataclose = self.datas[0].close\n",
    "        # buy_sig = sma1 -sma2 > 0\n",
    "\n",
    "    def next(self):\n",
    "        # Simply log the closing price of the series from the reference\n",
    "        # if self.data.dataclose > 350 :\n",
    "        #     self.buy()\n",
    "        # else:\n",
    "        #      self.sell()\n",
    "        self.log('Close, %.2f' % self.dataclose[0])"
   ]
  },
  {
   "cell_type": "code",
   "execution_count": 12,
   "metadata": {},
   "outputs": [
    {
     "output_type": "execute_result",
     "data": {
      "text/plain": [
       "0"
      ]
     },
     "metadata": {},
     "execution_count": 12
    }
   ],
   "source": [
    "cerebro = bt.Cerebro()\n",
    "    # Add a strategy\n",
    "cerebro.addstrategy(TestStrategy)\n",
    "    # Datas are in a subfolder of the samples. Need to find where the script is\n",
    "    # because it could have been called from anywhere"
   ]
  },
  {
   "source": [
    "cerebro.adddata(data)\n",
    "\n",
    "    # Set our desired cash start\n",
    "cerebro.broker.setcash(100000.0)"
   ],
   "cell_type": "code",
   "metadata": {},
   "execution_count": null,
   "outputs": []
  },
  {
   "cell_type": "code",
   "execution_count": 14,
   "metadata": {},
   "outputs": [
    {
     "output_type": "stream",
     "name": "stdout",
     "text": [
      "Starting Portfolio Value: 100000.00\n",
      "Final Portfolio Value: 100000.00\n"
     ]
    }
   ],
   "source": [
    "   # Print out the starting conditions\n",
    "print('Starting Portfolio Value: %.2f' % cerebro.broker.getvalue())\n",
    "\n",
    "    # Run over everything\n",
    "cerebro.run()\n",
    "\n",
    "    # Print out the final result\n",
    "print('Final Portfolio Value: %.2f' % cerebro.broker.getvalue())"
   ]
  },
  {
   "cell_type": "code",
   "execution_count": null,
   "metadata": {},
   "outputs": [],
   "source": []
  }
 ]
}