{
 "metadata": {
  "language_info": {
   "codemirror_mode": {
    "name": "ipython",
    "version": 3
   },
   "file_extension": ".py",
   "mimetype": "text/x-python",
   "name": "python",
   "nbconvert_exporter": "python",
   "pygments_lexer": "ipython3",
   "version": "3.7.6-final"
  },
  "orig_nbformat": 2,
  "kernelspec": {
   "name": "python3",
   "display_name": "Python 3",
   "language": "python"
  }
 },
 "nbformat": 4,
 "nbformat_minor": 2,
 "cells": [
  {
   "cell_type": "code",
   "execution_count": 1,
   "metadata": {},
   "outputs": [],
   "source": [
    "from __future__ import (absolute_import, division, print_function,\n",
    "                        unicode_literals)\n",
    "import pandas as pd\n",
    "import datetime  # For datetime objects\n",
    "import os.path  # To manage paths\n",
    "import sys  # To find out the script name (in argv[0])\n",
    "\n",
    "# Import the backtrader platform\n",
    "import backtrader as bt"
   ]
  },
  {
   "cell_type": "code",
   "execution_count": 3,
   "metadata": {},
   "outputs": [],
   "source": [
    "class TestStrategy(bt.Strategy):\n",
    "    params = (('log_file', 'backtest.csv'),)\n",
    "\n",
    "    def log(self, txt, dt=None):\n",
    "        ''' Logging function for this strategy'''\n",
    "        dt = dt or self.datas[0].datetime.date(0)\n",
    "        # print('%s, %s' % (dt.isoformat(), txt))\n",
    "        with Path(self.p.log_file).open('a') as f:\n",
    "            log_writer = csv.writer(f)\n",
    "            log_writer.writerow([dt.isoformat()] + txt.split(','))\n",
    "\n",
    "\n",
    "    def __init__(self):\n",
    "        # Keep a reference to the \"close\" line in the data[0] dataseries\n",
    "        self.dataclose = self.datas[0].close\n",
    "\n",
    "    def next(self):\n",
    "        # Simply log the closing price of the series from the reference\n",
    "        self.log('Close, %.2f' % self.dataclose[0])"
   ]
  },
  {
   "cell_type": "code",
   "execution_count": 4,
   "metadata": {},
   "outputs": [],
   "source": [
    "cerebro = bt.Cerebro()\n",
    "    # Add a strategy\n",
    "cerebro.addstrategy(TestStrategy)\n",
    "    # Datas are in a subfolder of the samples. Need to find where the script is\n",
    "    # because it could have been called from anywhere\n",
    "# modpath = os.path.dirname(os.path.abspath(sys.argv[0]))\n",
    "data_path = '../data/processed_ETH_OHLCV.csv'\n",
    "temp = os.path.join(os.path.dirname('__file__'), data_path)\n",
    "path = os.path.normpath(temp)\n",
    "# datapath = os.path.join(modpath, '../data/processed_ETH_OHLCV.csv.csv')\n",
    "    # Create a Data Feed"
   ]
  },
  {
   "cell_type": "code",
   "execution_count": 5,
   "metadata": {},
   "outputs": [],
   "source": [
    "data = bt.feeds.GenericCSVData(\n",
    "        dataname=path,\n",
    "        nullvalue=0.0,\n",
    "        # Do not pass values before this date\n",
    "        fromdate=datetime.datetime(2018, 8, 8),\n",
    "        # Do not pass values before this date\n",
    "        todate=datetime.datetime(2020, 9, 9),\n",
    "        dtformat=('%Y-%m-%d %H:%M:%S'),\n",
    "        datetime=1,\n",
    "        time=-1,\n",
    "        high=4,\n",
    "        low=5,\n",
    "        open=3,\n",
    "        close=2,\n",
    "        volume=6,\n",
    "        openinterest=-1\n",
    "        # Do not pass values after this date\n",
    "        # reverse=False\n",
    "        )"
   ]
  },
  {
   "source": [
    "path"
   ],
   "cell_type": "code",
   "metadata": {},
   "execution_count": 6,
   "outputs": [
    {
     "output_type": "execute_result",
     "data": {
      "text/plain": [
       "'../data/processed_ETH_OHLCV.csv'"
      ]
     },
     "metadata": {},
     "execution_count": 6
    }
   ]
  },
  {
   "cell_type": "code",
   "execution_count": 7,
   "metadata": {},
   "outputs": [],
   "source": [
    "cerebro.adddata(data)\n",
    "\n",
    "    # Set our desired cash start\n",
    "cerebro.broker.setcash(100000.0)"
   ]
  },
  {
   "cell_type": "code",
   "execution_count": 9,
   "metadata": {},
   "outputs": [
    {
     "output_type": "stream",
     "name": "stdout",
     "text": [
      "Starting Portfolio Value: 100000.00\nFinal Portfolio Value: 100000.00\n"
     ]
    }
   ],
   "source": [
    "   # Print out the starting conditions\n",
    "print('Starting Portfolio Value: %.2f' % cerebro.broker.getvalue())\n",
    "\n",
    "    # Run over everything\n",
    "cerebro.run()\n",
    "\n",
    "    # Print out the final result\n",
    "print('Final Portfolio Value: %.2f' % cerebro.broker.getvalue())"
   ]
  },
  {
   "cell_type": "code",
   "execution_count": null,
   "metadata": {},
   "outputs": [],
   "source": []
  }
 ]
}