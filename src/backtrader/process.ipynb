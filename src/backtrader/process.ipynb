{
 "metadata": {
  "language_info": {
   "codemirror_mode": {
    "name": "ipython",
    "version": 3
   },
   "file_extension": ".py",
   "mimetype": "text/x-python",
   "name": "python",
   "nbconvert_exporter": "python",
   "pygments_lexer": "ipython3",
   "version": "3.7.6-final"
  },
  "orig_nbformat": 2,
  "kernelspec": {
   "name": "python3",
   "display_name": "Python 3.7.6 64-bit ('.venv')",
   "metadata": {
    "interpreter": {
     "hash": "33f751d8893b68d5a005de61d10ae64e4ad6d0b0e8a69d67e2afba24bce09a4a"
    }
   }
  }
 },
 "nbformat": 4,
 "nbformat_minor": 2,
 "cells": [
  {
   "cell_type": "code",
   "execution_count": 39,
   "metadata": {},
   "outputs": [],
   "source": [
    "import backtrader as bt\n",
    "import backtrader.feeds as btfeeds\n",
    "import pandas as pd\n",
    "import os"
   ]
  },
  {
   "cell_type": "code",
   "execution_count": 40,
   "metadata": {},
   "outputs": [
    {
     "output_type": "stream",
     "name": "stdout",
     "text": [
      "../data/ETH_OHLCV.csv\n"
     ]
    }
   ],
   "source": [
    "path = os.getcwd()\n",
    "# print(path)\n",
    "\n",
    "path = '../data/ETH_OHLCV.csv'\n",
    "temp = os.path.join(os.path.dirname('__file__'), path)\n",
    "path = os.path.normpath(temp)\n",
    "\n",
    "print(path)"
   ]
  },
  {
   "cell_type": "code",
   "execution_count": 47,
   "metadata": {},
   "outputs": [
    {
     "output_type": "execute_result",
     "data": {
      "text/plain": [
       "            Date   Close    Open    High     Low    Vol.\n",
       "0    09-09, 2020  351.10  337.46  358.33  331.12  14.07M\n",
       "1    09-08, 2020  337.46  352.06  355.69  326.66  18.98M\n",
       "2    09-07, 2020  352.06  353.49  357.33  325.47  21.69M\n",
       "3    09-06, 2020  353.49  334.91  358.09  316.69  20.13M\n",
       "4    09-05, 2020  334.91  385.94  394.12  314.13  35.32M\n",
       "..           ...     ...     ...     ...     ...     ...\n",
       "759  08-12, 2018  318.18  317.63  327.51  314.71   1.52M\n",
       "760  08-11, 2018  317.59  331.78  332.52  305.19   2.16M\n",
       "761  08-10, 2018  331.81  363.33  365.36  326.67   1.74M\n",
       "762  08-09, 2018  363.34  355.48  369.74  351.07   1.42M\n",
       "763  08-08, 2018  355.44  378.29  380.15  348.98   2.05M\n",
       "\n",
       "[764 rows x 6 columns]"
      ],
      "text/html": "<div>\n<style scoped>\n    .dataframe tbody tr th:only-of-type {\n        vertical-align: middle;\n    }\n\n    .dataframe tbody tr th {\n        vertical-align: top;\n    }\n\n    .dataframe thead th {\n        text-align: right;\n    }\n</style>\n<table border=\"1\" class=\"dataframe\">\n  <thead>\n    <tr style=\"text-align: right;\">\n      <th></th>\n      <th>Date</th>\n      <th>Close</th>\n      <th>Open</th>\n      <th>High</th>\n      <th>Low</th>\n      <th>Vol.</th>\n    </tr>\n  </thead>\n  <tbody>\n    <tr>\n      <th>0</th>\n      <td>09-09, 2020</td>\n      <td>351.10</td>\n      <td>337.46</td>\n      <td>358.33</td>\n      <td>331.12</td>\n      <td>14.07M</td>\n    </tr>\n    <tr>\n      <th>1</th>\n      <td>09-08, 2020</td>\n      <td>337.46</td>\n      <td>352.06</td>\n      <td>355.69</td>\n      <td>326.66</td>\n      <td>18.98M</td>\n    </tr>\n    <tr>\n      <th>2</th>\n      <td>09-07, 2020</td>\n      <td>352.06</td>\n      <td>353.49</td>\n      <td>357.33</td>\n      <td>325.47</td>\n      <td>21.69M</td>\n    </tr>\n    <tr>\n      <th>3</th>\n      <td>09-06, 2020</td>\n      <td>353.49</td>\n      <td>334.91</td>\n      <td>358.09</td>\n      <td>316.69</td>\n      <td>20.13M</td>\n    </tr>\n    <tr>\n      <th>4</th>\n      <td>09-05, 2020</td>\n      <td>334.91</td>\n      <td>385.94</td>\n      <td>394.12</td>\n      <td>314.13</td>\n      <td>35.32M</td>\n    </tr>\n    <tr>\n      <th>...</th>\n      <td>...</td>\n      <td>...</td>\n      <td>...</td>\n      <td>...</td>\n      <td>...</td>\n      <td>...</td>\n    </tr>\n    <tr>\n      <th>759</th>\n      <td>08-12, 2018</td>\n      <td>318.18</td>\n      <td>317.63</td>\n      <td>327.51</td>\n      <td>314.71</td>\n      <td>1.52M</td>\n    </tr>\n    <tr>\n      <th>760</th>\n      <td>08-11, 2018</td>\n      <td>317.59</td>\n      <td>331.78</td>\n      <td>332.52</td>\n      <td>305.19</td>\n      <td>2.16M</td>\n    </tr>\n    <tr>\n      <th>761</th>\n      <td>08-10, 2018</td>\n      <td>331.81</td>\n      <td>363.33</td>\n      <td>365.36</td>\n      <td>326.67</td>\n      <td>1.74M</td>\n    </tr>\n    <tr>\n      <th>762</th>\n      <td>08-09, 2018</td>\n      <td>363.34</td>\n      <td>355.48</td>\n      <td>369.74</td>\n      <td>351.07</td>\n      <td>1.42M</td>\n    </tr>\n    <tr>\n      <th>763</th>\n      <td>08-08, 2018</td>\n      <td>355.44</td>\n      <td>378.29</td>\n      <td>380.15</td>\n      <td>348.98</td>\n      <td>2.05M</td>\n    </tr>\n  </tbody>\n</table>\n<p>764 rows × 6 columns</p>\n</div>"
     },
     "metadata": {},
     "execution_count": 47
    }
   ],
   "source": [
    "df = pd.read_csv(path)\n",
    "df.rename(columns={'Price': 'Close'}, inplace=True)\n",
    "df.drop(columns='Change %')"
   ]
  },
  {
   "cell_type": "code",
   "execution_count": 48,
   "metadata": {},
   "outputs": [],
   "source": [
    "df['Vol.']= df['Vol.'].str.replace('M','')"
   ]
  },
  {
   "cell_type": "code",
   "execution_count": 49,
   "metadata": {},
   "outputs": [],
   "source": [
    "def func(strings):\n",
    "    if ', 2020' in strings:\n",
    "        strings =  strings.replace(', 2020', '')\n",
    "        strings = '2020-' + strings\n",
    "    elif ', 2019' in strings:\n",
    "        strings =   strings.replace(', 2019', '')\n",
    "        strings = '2019-' + strings\n",
    "    elif ', 2018' in strings:\n",
    "        strings =  strings.replace(', 2018', '')\n",
    "        strings = '2018-' + strings\n",
    "    return strings"
   ]
  },
  {
   "cell_type": "code",
   "execution_count": 50,
   "metadata": {},
   "outputs": [
    {
     "output_type": "stream",
     "name": "stdout",
     "text": [
      "           Date   Close    Open    High     Low   Vol. Change %\n0    2020-09-09  351.10  337.46  358.33  331.12  14.07    4.04%\n1    2020-09-08  337.46  352.06  355.69  326.66  18.98   -4.15%\n2    2020-09-07  352.06  353.49  357.33  325.47  21.69   -0.40%\n3    2020-09-06  353.49  334.91  358.09  316.69  20.13    5.55%\n4    2020-09-05  334.91  385.94  394.12  314.13  35.32  -13.22%\n..          ...     ...     ...     ...     ...    ...      ...\n759  2018-08-12  318.18  317.63  327.51  314.71   1.52    0.19%\n760  2018-08-11  317.59  331.78  332.52  305.19   2.16   -4.29%\n761  2018-08-10  331.81  363.33  365.36  326.67   1.74   -8.68%\n762  2018-08-09  363.34  355.48  369.74  351.07   1.42    2.22%\n763  2018-08-08  355.44  378.29  380.15  348.98   2.05   -6.03%\n\n[764 rows x 7 columns]\n"
     ]
    }
   ],
   "source": [
    "df[\"Date\"] = df[\"Date\"].map(func)\n",
    "print(df)"
   ]
  },
  {
   "cell_type": "code",
   "execution_count": 51,
   "metadata": {},
   "outputs": [],
   "source": [
    "df.to_csv('../data/processed_ETH_OHLCV.csv', encoding='utf-8')\n",
    "# data = btfeeds.YahooFinanceCSVData(dataname='wheremydatacsvis.csv')\n",
    "# print(data)"
   ]
  },
  {
   "source": [],
   "cell_type": "markdown",
   "metadata": {}
  }
 ]
}